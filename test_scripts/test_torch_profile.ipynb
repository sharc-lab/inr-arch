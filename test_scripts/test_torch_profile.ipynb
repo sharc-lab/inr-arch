{
 "cells": [
  {
   "cell_type": "code",
   "execution_count": 10,
   "metadata": {},
   "outputs": [],
   "source": [
    "import torch\n",
    "import torchvision.models as models\n",
    "from torch.profiler import profile, record_function, ProfilerActivity\n",
    "\n",
    "from siren_pytorch import SirenNet\n",
    "\n",
    "from copy import deepcopy\n",
    "import tracemalloc\n",
    "import gc"
   ]
  },
  {
   "cell_type": "code",
   "execution_count": 2,
   "metadata": {},
   "outputs": [],
   "source": [
    "net = SirenNet(\n",
    "    dim_in = 2,                        # input dimension, ex. 2d coor\n",
    "    dim_hidden = 1024,                  # hidden dimension\n",
    "    dim_out = 3,                       # output dimension, ex. rgb value\n",
    "    num_layers = 5,                    # number of layers\n",
    "    final_activation = None,   # activation of final layer (nn.Identity() for direct output)\n",
    "    w0_initial = 30.                   # different signals may require different omega_0 in the first layer - this is a hyperparameter\n",
    ")\n",
    "\n",
    "coor = torch.randn(64, 2, requires_grad=True)\n"
   ]
  },
  {
   "cell_type": "code",
   "execution_count": 3,
   "metadata": {},
   "outputs": [],
   "source": [
    "def trace_gpu(input_net, input_coor, device: str = \"cuda:0\"):\n",
    "\n",
    "    net = deepcopy(input_net).to(device)\n",
    "    coor = deepcopy(input_coor).to(device)\n",
    "\n",
    "    out = net(coor)\n",
    "    for i in range(3):\n",
    "        g = torch.autograd.grad(out[..., i] / 256, coor, torch.ones_like(out[..., i]), create_graph=True)\n",
    "\n",
    "\n",
    "    torch.cuda.empty_cache()\n",
    "    torch.cuda.reset_max_memory_allocated(device=device)\n",
    "    torch.cuda.reset_max_memory_cached(device=device)\n",
    "    torch.cuda.reset_peak_memory_stats(device=device)\n",
    "    torch.cuda.reset_accumulated_memory_stats(device=device)\n",
    "    \n",
    "\n",
    "\n",
    "    net(coor)\n",
    "    for i in range(3):\n",
    "        torch.autograd.grad(out[..., i] / 256, coor, torch.ones_like(out[..., i]), create_graph=True)\n",
    "\n",
    "    peak_mem_gpu = torch.cuda.max_memory_allocated(device=device)\n",
    "    # print(f\"Peak memory usage on GPU: {peak_mem_gpu / (1024 ** 3):.03f} GB\")\n",
    "    # MB\n",
    "    print(f\"Peak memory usage on GPU: {peak_mem_gpu / (1024 ** 2):.03f} MB\")\n"
   ]
  },
  {
   "cell_type": "code",
   "execution_count": 11,
   "metadata": {},
   "outputs": [],
   "source": [
    "def trace_cpu(input_net, input_coor):\n",
    "    gc.collect()\n",
    "    tracemalloc.start()\n",
    "\n",
    "    net = input_net.to(\"cpu\")\n",
    "    coor = input_coor.to(\"cpu\")\n",
    "    \n",
    "    out = net(coor)\n",
    "    for i in range(3):\n",
    "        g = torch.autograd.grad(out[..., i] / 256, coor, torch.ones_like(out[..., i]), create_graph=True)\n",
    "\n",
    "    current, peak = tracemalloc.get_traced_memory()\n",
    "    tracemalloc.stop()\n",
    "    print(f\"Peak memory usage on CPU: {peak / (1024 ** 3):.03f} GB\")"
   ]
  },
  {
   "cell_type": "code",
   "execution_count": 13,
   "metadata": {},
   "outputs": [
    {
     "name": "stdout",
     "output_type": "stream",
     "text": [
      "Peak memory usage on GPU: 42.544 MB\n",
      "Peak memory usage on CPU: 0.000 GB\n"
     ]
    }
   ],
   "source": [
    "torch.cuda.init()\n",
    "trace_gpu(net, coor, device=\"cuda:0\")\n",
    "trace_cpu(net, coor)\n",
    "\n",
    "# net = net.to('cpu')\n",
    "# coor = coor.to('cpu')"
   ]
  },
  {
   "cell_type": "code",
   "execution_count": 6,
   "metadata": {},
   "outputs": [
    {
     "name": "stdout",
     "output_type": "stream",
     "text": [
      "Peak memory usage on GPU: 0.016 GB\n"
     ]
    }
   ],
   "source": [
    "torch.cuda.reset_peak_memory_stats(device='cuda:0')\n",
    "torch.cuda.empty_cache()\n",
    "\n",
    "out = net(coor)\n",
    "g = torch.autograd.grad(out[0].sum(), net.parameters(), create_graph=True)\n",
    "\n",
    "peak_mem_gpu = torch.cuda.max_memory_allocated(device='cuda:0')\n",
    "print(f\"Peak memory usage on GPU: {peak_mem_gpu / (1024 ** 3):.03f} GB\")"
   ]
  },
  {
   "cell_type": "code",
   "execution_count": null,
   "metadata": {},
   "outputs": [],
   "source": []
  },
  {
   "cell_type": "code",
   "execution_count": 7,
   "metadata": {},
   "outputs": [],
   "source": [
    "# with profile(\n",
    "#     activities=[\n",
    "#         torch.profiler.ProfilerActivity.CPU,\n",
    "#         torch.profiler.ProfilerActivity.CUDA,\n",
    "#     ],\n",
    "#     profile_memory=True,\n",
    "# ) as prof:\n",
    "#     out = net(coor)\n",
    "#     g = torch.autograd.grad(out[0].sum(), net.parameters(), create_graph=True)\n",
    "\n",
    "\n",
    "# print(prof.key_averages().table(sort_by=\"self_cpu_memory_usage\", row_limit=10))\n",
    "# # peak CPU memory usage\n",
    "\n",
    "# total_mem_cpu = 0\n",
    "# total_mem_gpu = 0\n",
    "\n",
    "# for event in prof.events():\n",
    "#     total_mem_cpu += event.cpu_memory_usage\n",
    "#     total_mem_gpu += event.cuda_memory_usage\n",
    "\n",
    "# print(f\"Total CPU memory usage: {total_mem_cpu / 8 / 1024 / 1024} MB\")\n",
    "# print(f\"Total GPU memory usage: {total_mem_gpu / 8 / 1024 / 1024} MB\")"
   ]
  },
  {
   "cell_type": "code",
   "execution_count": null,
   "metadata": {},
   "outputs": [],
   "source": []
  }
 ],
 "metadata": {
  "kernelspec": {
   "display_name": "inr-dsp",
   "language": "python",
   "name": "python3"
  },
  "language_info": {
   "codemirror_mode": {
    "name": "ipython",
    "version": 3
   },
   "file_extension": ".py",
   "mimetype": "text/x-python",
   "name": "python",
   "nbconvert_exporter": "python",
   "pygments_lexer": "ipython3",
   "version": "3.10.10"
  },
  "orig_nbformat": 4
 },
 "nbformat": 4,
 "nbformat_minor": 2
}
